{
 "cells": [
  {
   "cell_type": "code",
   "execution_count": 17,
   "metadata": {},
   "outputs": [],
   "source": [
    "import cv2\n",
    "import logging"
   ]
  },
  {
   "cell_type": "code",
   "execution_count": 18,
   "metadata": {},
   "outputs": [],
   "source": [
    "logging.basicConfig(filename=(\"cascade.txt\"),level=logging.DEBUG,format='%(ascttime)s: %(message)s')\n",
    "eye=cv2.CascadeClassifier('haarcascade_eye.xml')\n",
    "frontface=cv2.CascadeClassifier('haarcascade_frontalface_default.xml')\n",
    "smile=cv2.CascadeClassifier('haarcascade_smile.xml')\n"
   ]
  },
  {
   "cell_type": "code",
   "execution_count": 19,
   "metadata": {},
   "outputs": [
    {
     "data": {
      "text/plain": [
       "u'C:\\\\Users\\\\Phani\\\\Documents\\\\TML\\\\haarcascade'"
      ]
     },
     "execution_count": 19,
     "metadata": {},
     "output_type": "execute_result"
    }
   ],
   "source": [
    "pwd\n"
   ]
  },
  {
   "cell_type": "code",
   "execution_count": 20,
   "metadata": {},
   "outputs": [
    {
     "data": {
      "text/plain": [
       "True"
      ]
     },
     "execution_count": 20,
     "metadata": {},
     "output_type": "execute_result"
    }
   ],
   "source": [
    "cap=cv2.VideoCapture(0)\n",
    "cap.set(3,640)\n",
    "cap.set(4,480)\n"
   ]
  },
  {
   "cell_type": "code",
   "execution_count": 27,
   "metadata": {},
   "outputs": [
    {
     "ename": "SyntaxError",
     "evalue": "invalid syntax (<ipython-input-27-5e81e69da4d3>, line 28)",
     "output_type": "error",
     "traceback": [
      "\u001b[1;36m  File \u001b[1;32m\"<ipython-input-27-5e81e69da4d3>\"\u001b[1;36m, line \u001b[1;32m28\u001b[0m\n\u001b[1;33m    minSize=(5,5)\u001b[0m\n\u001b[1;37m          ^\u001b[0m\n\u001b[1;31mSyntaxError\u001b[0m\u001b[1;31m:\u001b[0m invalid syntax\n"
     ]
    }
   ],
   "source": [
    "while True:\n",
    "    ret, img=cap.read()\n",
    "    gray=cv2.cvtColor(img,cv2.COLOR_BGR2GRAY)\n",
    "    faces=frontface.detectMultiScale(\n",
    "    gray,\n",
    "    scaleFactor = 1.2,\n",
    "    minNeighbors=5,\n",
    "    minSize=(20,20)\n",
    "    )\n",
    "    for(x,y,w,h) in faces:\n",
    "        cv2.rectangle(img,(x,y),(x+w,y+h),(255,0,0),2)\n",
    "        roi_gray=gray[y:y+h ,x:x+w]\n",
    "        roi_color=img[y:y+h ,x:x+w]\n",
    "        logging.info(\"face found at ({},{})\".format(x,y))\n",
    "    eyes = eye.detectMultiScale(\n",
    "            scaleFactor = 1.5,\n",
    "            minNeighbors=5,\n",
    "            minSize=(5,5)\n",
    "        )\n",
    "    for(ex,ey,ew,eh) in eyes:\n",
    "        cv2.rectangle(roi_color,(ex,ey),(ex+ew,ey+eh),(255,0,0),2)\n",
    "        logging.info(\"eyes found at ({},{})\".format(ex,ey))\n",
    "    eyes = eye.detectMultiScale(\n",
    "            scaleFactor = 1.5,\n",
    "            minNeighbors=5,\n",
    "            cv2.imshow('video',img)\n",
    "\n",
    "            minSize=(5,5)\n",
    "        )\n",
    "    for(xx,yy,ww,hh) in eyes:\n",
    "        cv2.rectangle(roi_color,(xx,yy),(xx+ww,yy+hh),(255,0,0),2)\n",
    "        logging.info(\"eyes found at ({},{})\".format(xx,yy))\n",
    "        smiles = smile.detectMultiScale(\n",
    "            scaleFactor = 1.5,\n",
    "            minNeighbors=5,\n",
    "            minSize=(5,5)\n",
    "        )\n",
    "    for(xx,yy,ww,hh) in smiles:\n",
    "        cv2.rectangle(roi_color,(xx,yy),(xx+ww,yy+hh),(255,0,0),2)\n",
    "        logging.info(\"smile found at ({},{})\".format(xx,yy))\n",
    "    cv2.imshow('video',img)\n",
    " \n",
    "    k=cv2.waitKey(30) & 0xff\n",
    "    if k==27:\n",
    "        break\n",
    "cap.release()\n",
    "cv2.destroyAllWindows\n"
   ]
  },
  {
   "cell_type": "code",
   "execution_count": null,
   "metadata": {},
   "outputs": [],
   "source": []
  },
  {
   "cell_type": "code",
   "execution_count": null,
   "metadata": {},
   "outputs": [],
   "source": []
  },
  {
   "cell_type": "code",
   "execution_count": null,
   "metadata": {},
   "outputs": [],
   "source": []
  }
 ],
 "metadata": {
  "kernelspec": {
   "display_name": "Python 2",
   "language": "python",
   "name": "python2"
  },
  "language_info": {
   "codemirror_mode": {
    "name": "ipython",
    "version": 2
   },
   "file_extension": ".py",
   "mimetype": "text/x-python",
   "name": "python",
   "nbconvert_exporter": "python",
   "pygments_lexer": "ipython2",
   "version": "2.7.16"
  },
  "widgets": {
   "state": {},
   "version": "1.1.2"
  }
 },
 "nbformat": 4,
 "nbformat_minor": 2
}
